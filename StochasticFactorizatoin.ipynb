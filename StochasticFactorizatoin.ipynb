{
 "cells": [
  {
   "cell_type": "code",
   "execution_count": 68,
   "id": "e9b7f09b",
   "metadata": {
    "scrolled": true
   },
   "outputs": [
    {
     "name": "stdout",
     "output_type": "stream",
     "text": [
      "count= 750\n",
      "75.0 %\n",
      "Fin\n"
     ]
    },
    {
     "data": {
      "image/png": "[encoded data removed]",
      "text/plain": [
       "<Figure size 432x288 with 1 Axes>"
      ]
     },
     "metadata": {
      "needs_background": "light"
     },
     "output_type": "display_data"
    }
   ],
   "source": [
    "%matplotlib inline\n",
    "import matplotlib.pyplot as plt\n",
    "import sympy\n",
    "import math\n",
    "from random import randint\n",
    "\n",
    "def Exp(N,expN):\n",
    "    if N>10:\n",
    "        pi=2*N**0.5/math.log(N)\n",
    "        r=randint(5,N)\n",
    "        if r==N:\n",
    "            r=N-2\n",
    "        s=N-r\n",
    "        if r<=10:\n",
    "            er=expN[r]    \n",
    "        else:\n",
    "            expN[N]=min(pi-expN[r]-expN[s],expN[N])\n",
    "        if s<=10:\n",
    "            es=expN[s]\n",
    "        else:\n",
    "            expN[N]=min(pi-expN[r]-expN[s],expN[N])\n",
    "        return expN[N],expN\n",
    "    else:\n",
    "        return expN[N],expN\n",
    "\n",
    "n_iter=10\n",
    "Nmax=1000\n",
    "primes=list(sympy.primerange(2,Nmax+1))\n",
    "prime_train=[2,3,5,7]\n",
    "expN=[1]*(Nmax+2)\n",
    "expN[2]=1\n",
    "expN[3]=1\n",
    "expN[4]=2\n",
    "expN[5]=1\n",
    "expN[6]=2\n",
    "expN[7]=1\n",
    "expN[8]=3\n",
    "expN[9]=2\n",
    "expN[10]=2\n",
    "\n",
    "PrimeTrue=[]\n",
    "PrimeCheck=[]\n",
    "for n in range(10,Nmax+1):\n",
    "    BOOL=True\n",
    "    if n in primes:\n",
    "        PrimeTrue.append(1)\n",
    "    else:\n",
    "        PrimeTrue.append(0)\n",
    "    pi=2*n**0.5/math.log(n)\n",
    "    \n",
    "    for m in range(n_iter):\n",
    "        r=randint(5,n)\n",
    "        if r==n:\n",
    "            r=n-2\n",
    "        s=n-r\n",
    "        g=math.gcd(s,r)\n",
    "        if g!=1:\n",
    "            PrimeCheck.append(0)\n",
    "            break\n",
    "        else:\n",
    "            if m==0:\n",
    "                ermax,expN=Exp(r,expN)\n",
    "                esmax,expN=Exp(s,expN)\n",
    "            else:\n",
    "                er,expN=Exp(r,expN)\n",
    "                es,expN=Exp(s,expN)\n",
    "                ermax=max(er,ermax)\n",
    "                esmax=max(es,esmax)\n",
    "            prob=(ermax+esmax)/pi\n",
    "    if prob >0.5:\n",
    "        PrimeCheck.append(1)\n",
    "    else:\n",
    "        PrimeCheck.append(0)\n",
    "\n",
    "x=[]\n",
    "Hit=[]\n",
    "count=0\n",
    "for n in range(Nmax-10):\n",
    "    C=PrimeCheck[n]\n",
    "    T=PrimeTrue[n]\n",
    "    if C==T:\n",
    "        count+=1\n",
    "        x.append(n)\n",
    "        Hit.append(1)\n",
    "    else:\n",
    "        x.append(n)\n",
    "        Hit.append(0)\n",
    "\n",
    "print('count=',count)\n",
    "print(round(count/Nmax*100,2),'%')\n",
    "\n",
    "plt.bar(x,Hit)\n",
    "\n",
    "print('Fin')"
   ]
  }
 ],
 "metadata": {
  "kernelspec": {
   "display_name": "Python 3 (ipykernel)",
   "language": "python",
   "name": "python3"
  },
  "language_info": {
   "codemirror_mode": {
    "name": "ipython",
    "version": 3
   },
   "file_extension": ".py",
   "mimetype": "text/x-python",
   "name": "python",
   "nbconvert_exporter": "python",
   "pygments_lexer": "ipython3",
   "version": "3.8.11"
  }
 },
 "nbformat": 4,
 "nbformat_minor": 5
}
